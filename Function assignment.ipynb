{
 "cells": [
  {
   "cell_type": "markdown",
   "id": "529d5f0c-6ecf-4a89-95e9-2d3ddaaa8d6a",
   "metadata": {},
   "source": [
    " Q1.What is the difference between a function and a method in Python?\n",
    " - Functions:\n",
    "     - They are block of reusable code that are designed to perform a specific task.\n",
    "     - They are defined at module level (global functions) meaning that they can be accessed directly anywhere in the program or can also be defined within classes.\n",
    "     - They are defined using def keyword followed by function name, paranthesis with required arguments and a colon.\n",
    "     - They are called using the function name followed by paranthesis containing any required arguments.\n",
    " - Method:\n",
    "     - They are associated with an instance of a class and operates on it's data.Methods are accessed directly through the class.\n",
    "     - They are defined within class definition and are indented to operate on instance of that class.\n",
    "     - They defined like functions but typically written within a class definition and are accessed using instance objects or the class itself.\n",
    "     - They are called on instances of a class using dot notation(instance .method()) or on the class itself(class.method())"
   ]
  },
  {
   "cell_type": "code",
   "execution_count": 1,
   "id": "82835848-2456-4fdd-907f-23c62ef253cc",
   "metadata": {},
   "outputs": [
    {
     "name": "stdout",
     "output_type": "stream",
     "text": [
      "This is an example function\n"
     ]
    }
   ],
   "source": [
    "#function example\n",
    "#defining the function\n",
    "def ex_function():\n",
    "    return \"This is an example function\"\n",
    "#function call\n",
    "x=ex_function()\n",
    "print(x)"
   ]
  },
  {
   "cell_type": "code",
   "execution_count": 4,
   "id": "d794158e-0552-4222-a8ac-a1e17c768ce0",
   "metadata": {},
   "outputs": [
    {
     "name": "stdout",
     "output_type": "stream",
     "text": [
      "This is an example of method\n"
     ]
    }
   ],
   "source": [
    "#Method example\n",
    "#defining the class with method\n",
    "class ex_Class():\n",
    "    def ex_method(self):\n",
    "        return \"This is an example of method\"\n",
    "#creating object for a class\n",
    "Object=ex_Class()\n",
    "#accessing method using instance object\n",
    "Method=Object.ex_method()\n",
    "print(Method)"
   ]
  },
  {
   "cell_type": "markdown",
   "id": "a1085b87-6dce-4d90-934b-7ceff583cc1d",
   "metadata": {},
   "source": [
    "Q2.Explain the concept of function arguments and parameters in Python.\n",
    " - arguments:\n",
    "      They are actual values that are passed to a function when calling it, they can be constants,variables orexpression.\n",
    " - parameters:\n",
    "       These are names used inside the paranthesis while defining the function. They act as placeholders for values that will be passed into the function when it is called.Parameters are essentially variables declared in function defintion."
   ]
  },
  {
   "cell_type": "code",
   "execution_count": 6,
   "id": "e4e0e209-c378-4eaa-b8c6-9b790314280e",
   "metadata": {},
   "outputs": [
    {
     "name": "stdout",
     "output_type": "stream",
     "text": [
      "5+7=12\n"
     ]
    }
   ],
   "source": [
    "#parameters those which are in paranthesis in function definition\n",
    "def addition(x,y):   #here x and y are parameters(placeholder)\n",
    "    return f\"{x}+{y}={x+y}\"\n",
    "#arguments those values passed during function call\n",
    "add=addition(5,7)   #here 5,7 are arguments\n",
    "print(add)"
   ]
  },
  {
   "cell_type": "markdown",
   "id": "91a4a3f2-7998-42d9-ba2a-947edbb5b31d",
   "metadata": {},
   "source": [
    "Q3.What are the different ways to define and call a function in Python?\n",
    " - Method-1:BASIC FUNCTION DEFINITION AND CALL\n",
    " basic function definition and function using \"def\" keyword followed by function name, paranthesis, colon and the body of function that contains that code that function should perform when called.\n",
    " - Method-2:LAMBDA FUNCTION\n",
    " lambda function in python is a small anonymous function defined with \"lambda\" keyword.It can have any number of arguments but only one expression.Useful when we need short function.\n",
    " - Method-3:MAP FUNCTION\n",
    " They are function that applies a given function to each item of an iterable and returns new iterable with a results.\n",
    " - Method-4:FILTER FUNCTION\n",
    " They constructs an iterator from elements of an iterable from elements of an iterable for which a function returns true.\n",
    " - Method-5:REDUCE FUNCTION\n",
    " They are used for performing a repetitive operation over the pairs of elements from an iterable. It continously applies the function to the current result and the next element, reducing the iterable to a single value.\n",
    " "
   ]
  },
  {
   "cell_type": "code",
   "execution_count": 11,
   "id": "d3be200b-b9ab-4fa9-98dd-42726795fc47",
   "metadata": {},
   "outputs": [
    {
     "name": "stdout",
     "output_type": "stream",
     "text": [
      "Basic function definition and call\n",
      "6x9=54\n",
      "\n",
      "Lambda function\n",
      "Division of numbers:0.4666666666666667\n",
      "\n",
      "Map function\n",
      "[32.0, 50.0, 100.4, 80.6]\n",
      "\n",
      "Filter function\n",
      "[2, 78, 22]\n",
      "\n",
      "Reduce function\n",
      "78\n"
     ]
    }
   ],
   "source": [
    "#Basic function definition and call\n",
    "print(\"Basic function definition and call\")\n",
    "def multiplication(a,b):\n",
    "    return f\"{a}x{b}={a*b}\"\n",
    "mul=multiplication(6,9)\n",
    "print(mul)\n",
    "print()\n",
    "#lambda function\n",
    "print(\"Lambda function\")\n",
    "div=lambda x,y: x/y\n",
    "result=div(7,15)\n",
    "print(f\"Division of numbers:{result}\")\n",
    "print()\n",
    "#map function\n",
    "print(\"Map function\")\n",
    "temp_celsius_list=[0,10,38,27]\n",
    "def c_to_f(temp_c):\n",
    "    return (temp_c*9/5)+32\n",
    "f_temp=list(map(c_to_f,temp_celsius_list))\n",
    "print(f_temp)\n",
    "print()\n",
    "#filter function\n",
    "print(\"Filter function\")\n",
    "num_list=[2,1,5,7,9,11,45,23,78,22]\n",
    "def even_num(x):\n",
    "    return x%2==0\n",
    "even_list=list(filter(even_num,num_list))\n",
    "print(even_list)\n",
    "print()\n",
    "#reduce function\n",
    "print(\"Reduce function\")\n",
    "from functools import reduce\n",
    "num_list=[3,5,6,1,56,4,78,2]\n",
    "max_value=reduce(lambda x,y:x if x>y else y,num_list)\n",
    "print(max_value)"
   ]
  },
  {
   "cell_type": "markdown",
   "id": "6c85aadd-f173-4b65-9870-50d03a45f209",
   "metadata": {},
   "source": [
    "Q4.What is the purpose of the return statement in a Python function?\n",
    "- Purpose-1:Exiting a function- When python encounters a return statementit immediately exits the function and returns the control to the caller.This means any code following the return statement within the function will not be executed.\n",
    " - Purpose-2:Returning values:Functions in python can optionally return a value to the caller using the return statement.This value can be of any datatype."
   ]
  },
  {
   "cell_type": "code",
   "execution_count": 2,
   "id": "54387a73-0dd1-4fa6-aa2d-ee1c1ae21e5b",
   "metadata": {},
   "outputs": [
    {
     "data": {
      "text/plain": [
       "'5-3=2'"
      ]
     },
     "execution_count": 2,
     "metadata": {},
     "output_type": "execute_result"
    }
   ],
   "source": [
    "def subtraction(a,b):\n",
    "    sub=a-b\n",
    "    return f\"{a}-{b}={sub}\"\n",
    "subtraction(5,3)"
   ]
  },
  {
   "cell_type": "markdown",
   "id": "36655462-6fe7-49b6-8b0d-0c2b20f28af6",
   "metadata": {},
   "source": [
    "Q5. What are iterators in Python and how do they differ from iterables?\n",
    "- iterables: It is an object/data structure in python that can be iterated over, meaning we can traverse through all the elements of an iterable using a loop. They support the creation of iterators using the iter() function.\n",
    "- iterators: It is an object in python that representes a stream of data.They maintain state to remember the position in the sequence.It implements 2 special methods,__iter()__ and __next()__ collectively known as iterator protocol.Iterators maintain internal state and produce the next value in the sequence when __next()__ is called."
   ]
  },
  {
   "cell_type": "code",
   "execution_count": 4,
   "id": "43efcf6a-5aa9-4653-92e0-f49a12c3e641",
   "metadata": {},
   "outputs": [
    {
     "name": "stdout",
     "output_type": "stream",
     "text": [
      "Iterable\n",
      "3\n",
      "5\n",
      "7\n",
      "9\n",
      "\n",
      "Iterator\n",
      "3\n",
      "5\n"
     ]
    }
   ],
   "source": [
    "#Iterable example\n",
    "print(\"Iterable\")\n",
    "numbers=[3,5,7,9]\n",
    "for num in numbers:\n",
    "    print(num)\n",
    "print()\n",
    "#iterators example\n",
    "print(\"Iterator\")\n",
    "itera=iter(numbers)\n",
    "print(next(itera))\n",
    "print(next(itera))"
   ]
  },
  {
   "cell_type": "markdown",
   "id": "79fa0c1a-ba8c-4a89-bdf1-97cdddcf4d1c",
   "metadata": {},
   "source": [
    "Q6. Explain the concept of generators in Python and how they are defined.\n",
    "- Generators are special type of iterator that simplifies the process of writing iterators\n",
    "- They produce values only when requested.This means they generator values on the fly and do not store in the memory all at once. \n",
    "- Generators maintain their state between function calls.When generator encounters a yeild statement, it suspends execution and saves its context, which allows it to resume where it is left off when next called\n",
    "- \"Generators are defined\" using a function like syntax with def keyword follwed by function name, paranthesis, with required parameters, colon and the body of the function indented below it, but instead of 'return' they use 'yield' statements to produce a sequence of values"
   ]
  },
  {
   "cell_type": "code",
   "execution_count": 8,
   "id": "7b524bc2-7300-4c64-9090-e3b7221d832f",
   "metadata": {},
   "outputs": [
    {
     "name": "stdout",
     "output_type": "stream",
     "text": [
      "0\n",
      "1\n",
      "1\n",
      "2\n",
      "3\n",
      "5\n",
      "8\n",
      "13\n",
      "21\n",
      "34\n"
     ]
    }
   ],
   "source": [
    "def fibonacci_generator():\n",
    "    a,b=0,1\n",
    "    while True:\n",
    "        yield a\n",
    "        a,b=b,a+b\n",
    "fib_gen=fibonacci_generator()\n",
    "for i in range(10):\n",
    "    print(next(fib_gen))"
   ]
  },
  {
   "cell_type": "markdown",
   "id": "c2422cc6-f63b-4efd-b218-6ad09733db1f",
   "metadata": {},
   "source": [
    "Q7. What are the advantages of using generators over regular functions?\n",
    "- Memory efficient:Generators produce values lazily, saving memory by generating elements on demand rather than storing them all in memery at once.\n",
    "- Improved performance: They are more efiicient in terms of time and space, especially for large datasets or infinite sequences, due to ther lazy evaluation nature.\n",
    "- Simpler code:Generators use a function like syntax with yield statement resulting in cleaner, more redable code compared to manually constructing and returning collections.\n",
    "- Support for infinite sequences: Generators can handle sequences that are potentially infinite, which regular functions cannot manage without excessive memory usage.\n",
    "-  Natural integration:Generators seamlessly integrate with python's iteration tools(for loops,sum(),list(),etc), facilitating flexible and efficient data processing workflow."
   ]
  },
  {
   "cell_type": "code",
   "execution_count": 9,
   "id": "c1bf840c-16da-4619-9ad8-eba6b270bd00",
   "metadata": {},
   "outputs": [
    {
     "name": "stdout",
     "output_type": "stream",
     "text": [
      "0\n",
      "2\n",
      "4\n",
      "6\n",
      "8\n",
      "10\n",
      "12\n",
      "14\n",
      "16\n",
      "18\n"
     ]
    }
   ],
   "source": [
    "def even_num():\n",
    "    num=0\n",
    "    while True:\n",
    "        yield num\n",
    "        num+=2\n",
    "#creating generator object\n",
    "even_gen=even_num()\n",
    "for x in range(10):\n",
    "    print(next(even_gen))"
   ]
  },
  {
   "cell_type": "markdown",
   "id": "b223f5be-a025-46ea-8c18-2416b786d654",
   "metadata": {},
   "source": [
    "Q8. What is a lambda function in Python and when is it typically used?\n",
    "- Lambda function in python is a small anonymous function defined with \"lambda\" keyword.It can have any number of arguments but only one expression.Useful when we need short function.\n",
    "- Typical use of lambda function:\n",
    "   - Inline function:They are commonly used for creating samall, one-line functions that are needed temporarily or in a specific context.\n",
    "   - Callback function:They are handy as callback functions where a function  is passed as an argument to another function.\n",
    "   - Short-lived function:When we need a quick function definition without assigning a full function name, lambda functions are useful"
   ]
  },
  {
   "cell_type": "markdown",
   "id": "3b875a95-fd46-4c4b-985c-ac233bf83a16",
   "metadata": {},
   "source": [
    "Q9. Explain the purpose and usage of the `map()` function in Python.\n",
    "- The main purpose of the map() function is to apply a function to every item in an iterable and collect the results. This can simplify code and make it more readable by abstracting away the iteration process.\n",
    "- Usage:\n",
    "  - Transforming data:we can use map() to transform data elements in a list or other iterables using a function.\n",
    "  - Processing multiple iterables: we can use map() with multiple iterables to apply a function element wise across them.\n",
    "  - Converting data types:converting elements of an iterable to a different data type using map()\n",
    "  - Iterating through data: when we need to apply a function to every element of an iterable and process the results iteratively "
   ]
  },
  {
   "cell_type": "code",
   "execution_count": 14,
   "id": "5d332488-8003-4d1d-9720-c813b2189311",
   "metadata": {},
   "outputs": [
    {
     "name": "stdout",
     "output_type": "stream",
     "text": [
      "Transforming data\n",
      "[8, 64, 216, 512]\n",
      "Processing multiple iterables\n",
      "[5, 7, 9]\n",
      "Converting data types\n",
      "[1, 4, 7, 3]\n",
      " Iterating through data\n",
      "20\n",
      "40\n",
      "60\n",
      "80\n",
      "100\n"
     ]
    }
   ],
   "source": [
    "#Transforming data\n",
    "print(\"Transforming data\")\n",
    "numbers=[2,4,6,8]\n",
    "cube_numbers=list(map(lambda x:x**3,numbers))\n",
    "print(cube_numbers)\n",
    "# Processing multiple iterables:\n",
    "print(\"Processing multiple iterables\")\n",
    "num1=[1,2,3]\n",
    "num2=[4,5,6]\n",
    "sum_num=list(map(lambda x,y:x+y,num1,num2))\n",
    "print(sum_num)\n",
    "#Converting data types\n",
    "print(\"Converting data types\")\n",
    "str_num=[\"1\",\"4\",\"7\",\"3\"]\n",
    "int_num=list(map(int,str_num))\n",
    "print(int_num)\n",
    "# Iterating through data\n",
    "print(\" Iterating through data\")\n",
    "def process_data(item):\n",
    "    return item*2\n",
    "data=[10,20,30,40,50]\n",
    "proccessed_data=map(process_data,data)\n",
    "for result in proccessed_data:\n",
    "    print(result)"
   ]
  },
  {
   "cell_type": "markdown",
   "id": "b605dc0c-7e83-4328-97a5-9b956fa54966",
   "metadata": {},
   "source": [
    "Q10. What is the difference between `map()`, `reduce()`, and `filter()` functions in Python?\n",
    " - MAP FUNCTION:\n",
    " They are function that applies a given function to each item of an iterable and returns new iterable with a results.\n",
    " - FILTER FUNCTION:\n",
    " They constructs an iterator from elements of an iterable from elements of an iterable for which a function returns true.\n",
    " - REDUCE FUNCTION:\n",
    " They are used for performing a repetitive operation over the pairs of elements from an iterable. It continously applies the function to the current result and the next element, reducing the iterable to a single value.\n",
    " "
   ]
  },
  {
   "cell_type": "code",
   "execution_count": 21,
   "id": "1f2a596c-3ac0-4950-b31f-65ae12627392",
   "metadata": {},
   "outputs": [
    {
     "name": "stdout",
     "output_type": "stream",
     "text": [
      "map() function\n",
      "[4, 16, 36, 64]\n",
      "filter() function\n",
      "['banana', 'orange', 'watermelon']\n",
      "Reduce function\n",
      "41\n"
     ]
    }
   ],
   "source": [
    "#map function\n",
    "print(\"map() function\")\n",
    "numbers=[2,4,6,8]\n",
    "square_numbers=list(map(lambda x:x**2,numbers))\n",
    "print(square_numbers)\n",
    "#filter function\n",
    "print(\"filter() function\")\n",
    "def is_long_string(s):\n",
    "    return len(s)>5\n",
    "words=[\"apple\",\"banana\",\"orange\",\"grape\",\"watermelon\",\"kiwi\"]\n",
    "long_words=list(filter(is_long_string,words))\n",
    "print(long_words)\n",
    "#reduce function\n",
    "print(\"Reduce function\")\n",
    "from functools import reduce\n",
    "numb=[1,4,8,12,16]\n",
    "multiplication=reduce(lambda x,y : x+y,numb)\n",
    "print(multiplication)"
   ]
  },
  {
   "cell_type": "raw",
   "id": "ff50c00b-ba04-43fc-ae6d-faa3bd6a276a",
   "metadata": {},
   "source": [
    "                                           PRACTICAL QUESTIONS"
   ]
  },
  {
   "cell_type": "markdown",
   "id": "52b6c554-e87b-4fbc-91a9-5dc3f22a06b7",
   "metadata": {},
   "source": [
    "Q1. Write a Python function that takes a list of numbers as input and returns the sum of all even numbers in\n",
    "the list"
   ]
  },
  {
   "cell_type": "code",
   "execution_count": 1,
   "id": "15cda6b2-3541-473c-83b0-d2296c154941",
   "metadata": {},
   "outputs": [
    {
     "data": {
      "text/plain": [
       "'Sum of even numbers in the list is:20'"
      ]
     },
     "execution_count": 1,
     "metadata": {},
     "output_type": "execute_result"
    }
   ],
   "source": [
    "def sum_of_even(number_list):\n",
    "    sum_even=0\n",
    "    for i in number_list:\n",
    "        if i%2==0:\n",
    "            sum_even+=i\n",
    "    return f\"Sum of even numbers in the list is:{sum_even}\"\n",
    "#function call\n",
    "number_list=[2,1,5,4,7,11,14]\n",
    "sum_of_even(number_list)"
   ]
  },
  {
   "cell_type": "markdown",
   "id": "26301915-cc75-4295-9aed-7bd75421efdc",
   "metadata": {},
   "source": [
    "Q2.Create a Python function that accepts a string and returns the reverse of that string."
   ]
  },
  {
   "cell_type": "code",
   "execution_count": 5,
   "id": "6cf13be7-bd20-47ad-9091-dfef71b4e750",
   "metadata": {},
   "outputs": [
    {
     "data": {
      "text/plain": [
       "\"Reverse of 'family' is 'ylimaf'\""
      ]
     },
     "execution_count": 5,
     "metadata": {},
     "output_type": "execute_result"
    }
   ],
   "source": [
    "#function definition\n",
    "def reverse_str(string):\n",
    "    reverse=string[::-1]\n",
    "    return f\"Reverse of '{string}' is '{reverse}'\"\n",
    "#function call\n",
    "reverse_str(\"family\")"
   ]
  },
  {
   "cell_type": "markdown",
   "id": "6e8fcd6c-1a68-4951-86ec-785ce15bc141",
   "metadata": {},
   "source": [
    "Q3. Implement a Python function that takes a list of integers and returns a new list containing the squares of\n",
    "each number."
   ]
  },
  {
   "cell_type": "code",
   "execution_count": 4,
   "id": "0b6c6426-3ccb-4028-9212-3f889bed7b09",
   "metadata": {},
   "outputs": [
    {
     "data": {
      "text/plain": [
       "[1, 9, 25, 49, 81]"
      ]
     },
     "execution_count": 4,
     "metadata": {},
     "output_type": "execute_result"
    }
   ],
   "source": [
    "#function definition\n",
    "def list_sq(lis_of_int):\n",
    "    list_sq_num=[]\n",
    "    for i in lis_of_int:\n",
    "        list_sq_num.append(i**2)\n",
    "    return list_sq_num\n",
    "#function call\n",
    "list_sq([1,3,5,7,9])"
   ]
  },
  {
   "cell_type": "markdown",
   "id": "fa85e284-6a65-40b3-b13c-90d64129ee46",
   "metadata": {},
   "source": [
    "Q4. Write a Python function that checks if a given number is prime or not from 1 to 200."
   ]
  },
  {
   "cell_type": "code",
   "execution_count": 59,
   "id": "cee2ff6a-26e0-4045-baff-c31dcd30777b",
   "metadata": {},
   "outputs": [
    {
     "name": "stdin",
     "output_type": "stream",
     "text": [
      "Enter the number: 3\n"
     ]
    },
    {
     "name": "stdout",
     "output_type": "stream",
     "text": [
      "3 is a prime number\n"
     ]
    }
   ],
   "source": [
    "def prime_num(num):\n",
    "    if num <= 1:\n",
    "        print(f\"{num} is not a prime number\")\n",
    "    elif num <= 3:\n",
    "        print(f\"{num} is a prime number\")\n",
    "    elif num%2==0 or num%3==0:\n",
    "        print(f\"{num} is not a prime number\")\n",
    "    else:\n",
    "        for i in range(2,num):\n",
    "            if num%i==0:\n",
    "                print(f\"{num} is not a prime number\")\n",
    "                break\n",
    "            else:\n",
    "                print(f\"{num} is a prime number\")\n",
    "                break\n",
    "num=int(input(\"Enter the number:\"))\n",
    "if num in range(1,201):\n",
    "    prime_num(num)\n",
    "else:\n",
    "    print(\"Number should be in range of 1-200\")"
   ]
  },
  {
   "cell_type": "markdown",
   "id": "f68be538-b480-4d30-8b04-9c39f9c28e48",
   "metadata": {},
   "source": [
    "Q5. Create an iterator class in Python that generates the Fibonacci sequence up to a specified number of terms."
   ]
  },
  {
   "cell_type": "code",
   "execution_count": 61,
   "id": "e454b1e7-819c-4f8d-99e6-00960d2d860a",
   "metadata": {},
   "outputs": [
    {
     "name": "stdin",
     "output_type": "stream",
     "text": [
      "Enter the number of terms in fib_sequence 6\n"
     ]
    },
    {
     "name": "stdout",
     "output_type": "stream",
     "text": [
      "First 6 terms of fibonacci sequence:\n",
      "0\n",
      "1\n",
      "1\n",
      "2\n",
      "3\n",
      "5\n"
     ]
    }
   ],
   "source": [
    "class fibonacci_iterator:\n",
    "    def __init__(self,max_terms):\n",
    "        self.max_terms=max_terms\n",
    "        self.a,self.b=0,1\n",
    "        self.term_count=0\n",
    "    def __iter__(self):\n",
    "        return self\n",
    "    def __next__(self):\n",
    "        if self.term_count>=self.max_terms:\n",
    "            raise StopIteration\n",
    "        elif self.term_count==0:\n",
    "            self.term_count+=1\n",
    "            return self.a\n",
    "        elif self.term_count==1:\n",
    "            self.term_count+=1\n",
    "            return self.b\n",
    "        else:\n",
    "            next_fib=self.a+self.b\n",
    "            self.a,self.b=self.b,next_fib\n",
    "            self.term_count+=1\n",
    "            return next_fib\n",
    "max_terms=int(input(\"Enter the number of terms in fib_sequence\"))\n",
    "fib_iterator=fibonacci_iterator(max_terms)\n",
    "print(f\"First {max_terms} terms of fibonacci sequence:\")\n",
    "for num in fib_iterator:\n",
    "    print(num)"
   ]
  },
  {
   "cell_type": "markdown",
   "id": "a77ccd2a-c5f5-40f4-9654-82146e211dd4",
   "metadata": {},
   "source": [
    "Q6. Write a generator function in Python that yields the powers of 2 up to a given exponent."
   ]
  },
  {
   "cell_type": "code",
   "execution_count": 62,
   "id": "d09bd1fd-922c-4730-bee4-217cfc66a1de",
   "metadata": {},
   "outputs": [
    {
     "name": "stdin",
     "output_type": "stream",
     "text": [
      "Enter the max exponent of 2 u desire: 5\n"
     ]
    },
    {
     "name": "stdout",
     "output_type": "stream",
     "text": [
      "2 to the power 0 is : 1\n",
      "2 to the power 1 is : 2\n",
      "2 to the power 2 is : 4\n",
      "2 to the power 3 is : 8\n",
      "2 to the power 4 is : 16\n",
      "2 to the power 5 is : 32\n"
     ]
    }
   ],
   "source": [
    "def two_power(max_exponent):\n",
    "    expo=0\n",
    "    while expo<=max_exponent:\n",
    "        yield 2**expo\n",
    "        expo+=1\n",
    "max_exponent=int(input(\"Enter the max exponent of 2 u desire:\"))\n",
    "ins=0\n",
    "for i in two_power(max_exponent):\n",
    "    print(f\"2 to the power {ins} is : {i}\")\n",
    "    ins+=1"
   ]
  },
  {
   "cell_type": "markdown",
   "id": "bc64b364-7a22-4c74-96ba-a5f7e531af95",
   "metadata": {},
   "source": [
    "Q7.Implement a generator function that reads a file line by line and yields each line as a string."
   ]
  },
  {
   "cell_type": "code",
   "execution_count": 63,
   "id": "67b74aab-017a-4498-8ff3-054abcd1cecc",
   "metadata": {},
   "outputs": [
    {
     "name": "stdout",
     "output_type": "stream",
     "text": [
      "'Name: Fathima.A'\n",
      "'Reg Email: fathimajaleel0407@gmail.com'\n",
      "'Course Name: Data Science With Generative AI - May'24'\n",
      "'Assignment Name: Data structure assignment'\n",
      "'Submission Date: 16th june 2024'\n",
      "'Git Link: https://github.com/fathima0407/Data-structure-assignment'\n",
      "'Drive Link:'\n",
      "'NOTE: :Sir/Madam i am from may batch they have shifted may batch to june ,I had already'\n",
      "'done this assignment last week and submitted it , also got evaluated'\n"
     ]
    }
   ],
   "source": [
    "def line_reading(file):\n",
    "    with open (file,\"r\")as f:\n",
    "        for line in f:\n",
    "            yield line.strip()\n",
    "file=\"sample file.txt\"\n",
    "for line in line_reading(file):\n",
    "    print(f\"'{line}'\")"
   ]
  },
  {
   "cell_type": "markdown",
   "id": "72c2aca4-b519-463f-8877-b55457f73255",
   "metadata": {},
   "source": [
    "Q8. Use a lambda function in Python to sort a list of tuples based on the second element of each tuple."
   ]
  },
  {
   "cell_type": "code",
   "execution_count": 5,
   "id": "a6bfb054-894e-4b6f-9ce8-a0f7dc203680",
   "metadata": {},
   "outputs": [
    {
     "name": "stdout",
     "output_type": "stream",
     "text": [
      "Sorted list of tuples are:[(1, 2), (3, 4), (5, 6), (7, 8), (9, 10), (11, 12)]\n"
     ]
    }
   ],
   "source": [
    "list_of_tuples=[(5,6),(1,2),(9,10),(3,4),(7,8),(11,12)]\n",
    "sort=sorted(list_of_tuples,key=lambda x:x[1])\n",
    "print(f\"Sorted list of tuples are:{sort}\")"
   ]
  },
  {
   "cell_type": "markdown",
   "id": "7de2c034-5382-44ac-a24f-5ce13cc6b6fa",
   "metadata": {},
   "source": [
    "Q9.Write a Python program that uses map() to convert a list of temperatures from Celsius to Fahrenheit."
   ]
  },
  {
   "cell_type": "code",
   "execution_count": 7,
   "id": "2af3a2ea-5382-4d5d-908d-fe34a804914d",
   "metadata": {},
   "outputs": [
    {
     "name": "stdout",
     "output_type": "stream",
     "text": [
      "List of temperature in celsius:[23, 28, 45, 32, 19]\n",
      "List of temperature in Fahrenheit respectively: [73.4, 82.4, 113.0, 89.6, 66.2]\n"
     ]
    }
   ],
   "source": [
    "def C_to_F(lst):\n",
    "    return 9/5*lst+32\n",
    "celsius=[23,28,45,32,19]\n",
    "print(f\"List of temperature in celsius:{celsius}\")\n",
    "print(f\"List of temperature in Fahrenheit respectively: {list(map(C_to_F,celsius))}\")"
   ]
  },
  {
   "cell_type": "markdown",
   "id": "ab45d120-1d2e-4b3f-b0fb-cbabdb1c938c",
   "metadata": {},
   "source": [
    "Q10. Create a Python program that uses filter() to remove all the vowels from a given string."
   ]
  },
  {
   "cell_type": "code",
   "execution_count": 14,
   "id": "b466ae6c-a2f9-48b0-ba38-9218d76ba049",
   "metadata": {},
   "outputs": [
    {
     "name": "stdin",
     "output_type": "stream",
     "text": [
      "Enter the string: Silence\n"
     ]
    },
    {
     "name": "stdout",
     "output_type": "stream",
     "text": [
      "Original string Silence\n",
      "String without vowels: Slnc\n"
     ]
    }
   ],
   "source": [
    "def remove_vowels(string):\n",
    "    vowels=\"aeiouAEIOU\"\n",
    "    filtered=filter(lambda x:x not in vowels,string)\n",
    "    filtered_string=\"\".join(filtered)\n",
    "    return filtered_string\n",
    "string=input(\"Enter the string:\")\n",
    "print(\"Original string\",string)\n",
    "print(\"String without vowels:\",remove_vowels(string))"
   ]
  },
  {
   "cell_type": "markdown",
   "id": "f6738d30-8dac-445c-839f-39e228b28503",
   "metadata": {},
   "source": [
    "Q11.Imagine an accounting routine used in a book shop. It works on a list with sublists, which look like this:\n",
    "Write a Python program, which returns a list with 2-tuples. Each tuple consists of the order number and the \n",
    "product of the price per item and the quantity. The product should be increased by 10,- € if the value of the order is smaller than 100,00 €.\n",
    "\n",
    "Write a Python program using lambda and map."
   ]
  },
  {
   "cell_type": "code",
   "execution_count": 72,
   "id": "c6b118ae-35cb-4e79-8bd8-bfcff75197b7",
   "metadata": {},
   "outputs": [
    {
     "name": "stdout",
     "output_type": "stream",
     "text": [
      "Order amounts with applied discount if total is less than 100€:\n",
      "[(34587, 163.8), (98762, 284.0), (77226, 108.85000000000001), (88112, 84.97)]\n"
     ]
    }
   ],
   "source": [
    "orders=[\n",
    "    [34587,\"Learning Python, Mark Lutz\",4,40.95],\n",
    "    [98762,\"Programming python, Mark lutz\",5,56.80],\n",
    "    [77226,\"Head First Python, Paul Barry\",3,32.95],\n",
    "    [88112,\"Einfuhrung in Python3, Bernd Klein\",3,24.99]\n",
    "]\n",
    "order_amounts=list(map(lambda order:(order[0],order[2]*order[3] if order[2]*order[3]>=100 \n",
    "                                     else order[2]*order[3]+10),orders))\n",
    "print(\"Order amounts with applied discount if total is less than 100€:\")\n",
    "print(order_amounts)"
   ]
  },
  {
   "cell_type": "code",
   "execution_count": null,
   "id": "11530358-bf8e-4e4a-84b8-2bc79137d472",
   "metadata": {},
   "outputs": [],
   "source": []
  }
 ],
 "metadata": {
  "kernelspec": {
   "display_name": "Python 3 (ipykernel)",
   "language": "python",
   "name": "python3"
  },
  "language_info": {
   "codemirror_mode": {
    "name": "ipython",
    "version": 3
   },
   "file_extension": ".py",
   "mimetype": "text/x-python",
   "name": "python",
   "nbconvert_exporter": "python",
   "pygments_lexer": "ipython3",
   "version": "3.10.8"
  }
 },
 "nbformat": 4,
 "nbformat_minor": 5
}
