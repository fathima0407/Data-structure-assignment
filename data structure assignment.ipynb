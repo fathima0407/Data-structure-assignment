{
 "cells": [
  {
   "cell_type": "markdown",
   "id": "90b87a77-7ced-4b2a-beef-85ea1da156e6",
   "metadata": {},
   "source": [
    "Q1.Discuss string slicing and provide examples.\n",
    "\n",
    "- Indexing - In python indexing typically refers to accessing elements in the data structure, strings also support indexing through which we can access an element in a sequence.Indexing starts from 0 which means the first element in sequence is at position 0, the second element is at position 1 and so on. we use [] brackets with index of element we want to access.\n",
    "- Slicing in string : The process of accessing a sub sequence of the string by specifying a starting and ending index.we perform slicing using the colon(:) operator.\n",
    "  - syntax : [start_index:end_index:step]\n",
    "    - where start_index is the index of the first element in the sub-sequence\n",
    "    - end_index is the index of the last element in the sub-sequence(excluding the element at the end_index)\n",
    "    - step is the optional parameter that determines the increment between indices in the slice.The default value is 1.Negative values of the step allow slicing to occur from the end towards the beginning of the string  "
   ]
  },
  {
   "cell_type": "code",
   "execution_count": 1,
   "id": "da62cf71-0e6d-4a9b-ba6f-724c2f4a70e2",
   "metadata": {},
   "outputs": [
    {
     "name": "stdout",
     "output_type": "stream",
     "text": [
      "student of pwskills\n",
      "I am a student\n",
      "a student \n",
      "pwskill\n",
      "sueto\n",
      "sllikswp fo tneduts a ma I\n"
     ]
    }
   ],
   "source": [
    "my_str=\"I am a student of pwskills\"\n",
    "#to extract the substring from index 7 to the end\n",
    "print(my_str[7:])\n",
    "#to extract the substring from beginning to index 14\n",
    "print(my_str[:14])\n",
    "#to extract the substring from index 5 to index 15\n",
    "print(my_str[5:15])\n",
    "#negative indices for slicing \n",
    "print(my_str[-8:-1])\n",
    "#to extract every second character from index 7 to index 17\n",
    "print(my_str[7:17:2])\n",
    "#to reverse the string using slicing\n",
    "print(my_str[::-1])"
   ]
  },
  {
   "cell_type": "markdown",
   "id": "abfb633b-e68e-49b1-8636-02ff3c773822",
   "metadata": {},
   "source": [
    "Q2.Explain the key features of lists in Python.\n",
    "- Ordered collection: lists maintain the order of elements.Elements can be accessed by their index, with the first element at 0 index.\n",
    "- Mutability: lists cab be modified after creation .You can change , add or remove elements.\n",
    "- Dynamic size:lists can grow and shrink in size as needed. we can append elements to alist or remove elements from it.\n",
    "- Heterogenous elements:lists can contain elements of different data types, including integers,floats,strings and even another list inside it.\n",
    "- List comprehensions:python provides concise way to create lists using list comprehensions which are expression within square brackets.\n",
    "- Iteration-lists can be easily iterated over using loops\n",
    "- Memory efficient:lists are implemented as dynamic arrays, making them memory efficient for variety of operations.\n",
    "- Indexing and slicing:lists support indexing to access individual elements and slicing to access a range of elements.Negative indexing is also supported to access elements from the end of the list."
   ]
  },
  {
   "cell_type": "markdown",
   "id": "06d1c7f6-f8b6-4fe1-a104-73ae12131e2c",
   "metadata": {},
   "source": [
    "Q3.Describe how to access, modify and delete elements in a list with examples.\n",
    "\n",
    "- accessing element:Using index we can access the elements from the list.In list indexing starts from 0 that is first element in the list and index 1 refers to the second elements in the list.Lists support negative indexing counts from the end of the list.-1 is the last element, -2 is the last second element and so on\n",
    "\n",
    "- modifying:It is straightforward.we can modify elements in the list by updating a single element using indexing to assign a new value to a specific element.we can also update a range of elements using slicing to assign new value to a range of elements,the number of elements in the slice must match the number of new values.\n",
    "\n",
    "- deleting:deleting elements in list using del keyword followed by the index of the element pr the range of elements.Also we can use remove() method that removes the first occurence of a specified value.Also we can use pop() method that removes the element by index and return it, if no index is specified it removes and returns the last element"
   ]
  },
  {
   "cell_type": "code",
   "execution_count": 2,
   "id": "18706bff-c754-4766-98a2-50e0821422f6",
   "metadata": {},
   "outputs": [
    {
     "name": "stdout",
     "output_type": "stream",
     "text": [
      "60\n",
      "40\n",
      "[20, 40, 60, 345, 100, 120]\n",
      "[20, 40, 456, 567, 100, 120]\n",
      "[20, 40, 456, 100, 120]\n",
      "[20, 40, 100, 120]\n"
     ]
    },
    {
     "data": {
      "text/plain": [
       "120"
      ]
     },
     "execution_count": 2,
     "metadata": {},
     "output_type": "execute_result"
    }
   ],
   "source": [
    "my_list=[20,40,60,80,100,120]\n",
    "#accessing the element\n",
    "print(my_list[2])\n",
    "#accessing by negative indexing\n",
    "print(my_list[-5])\n",
    "#modifying the specific element\n",
    "my_list[3]=345\n",
    "print(my_list)\n",
    "#modifying or updating the range of elements \n",
    "my_list[2:4]=456,567\n",
    "print(my_list)\n",
    "#deleting the element using del keyword\n",
    "del my_list[3]\n",
    "print(my_list)\n",
    "#deleting the element using remove() method\n",
    "my_list.remove(456)\n",
    "print(my_list)\n",
    "#deleting the element using pop() method\n",
    "my_list.pop()"
   ]
  },
  {
   "cell_type": "markdown",
   "id": "0fcbbd93-21dc-4a6f-8c84-0b24cb13789f",
   "metadata": {},
   "source": [
    "Q4.Compare and contrast tuples and lists with examples.\n",
    "\n",
    "- Ordered collection:both tuples and lists maintain the order of elements.The order in which items are added is preserved\n",
    "- Indexing and slicing:both support accessing elements through indexing and slicing\n",
    "- Contain multiple data types:both can hold elements of different data types\n",
    "- Mutability:\n",
    "  - lists: they are mutable, we can change, add, or remove elements after the list is created\n",
    "  - tuples: they are immutable, once a tuple is created we cannot modify, add or remove elements.\n",
    "- syntax:\n",
    "  - lists: we use square brackets[] and elements separated by comma #[1,2,3,4]\n",
    "  - tuples: we use parenthesis() and elements separated by comma  #(2,4,6,8)\n",
    "- use case:\n",
    "  - lists: they are used when we need a collection of items that may need to change during the program execution\n",
    "  - tuples: they are used when we need a collection of items that should not change providing a guarantee that the data remains constant\n",
    "- methods:\n",
    "  - lists: they have many built-in methods for modification like append(), extend(), insert(), remove(), pop() etc\n",
    "  - tuples: they have fewer methods mainly count() and index()"
   ]
  },
  {
   "cell_type": "code",
   "execution_count": 3,
   "id": "3cba4d20-3cb3-4b9d-ac09-e8b6b7f6792d",
   "metadata": {},
   "outputs": [
    {
     "name": "stdout",
     "output_type": "stream",
     "text": [
      "[44, 66, 77, 88]\n",
      "(34, 56, 78, 90)\n",
      "[44, 66, 77, 459]\n",
      "Tuples are immutable\n"
     ]
    }
   ],
   "source": [
    "#list declaration\n",
    "my_lst=[44,66,77,88]\n",
    "print(my_lst)\n",
    "#tuple declaration\n",
    "my_tup=(34,56,78,90)\n",
    "print(my_tup)\n",
    "#mutability of list\n",
    "my_lst[3]=459\n",
    "print(my_lst)\n",
    "#immutabilty of tuples\n",
    "try:\n",
    "    my_tup[2]=10\n",
    "except TypeError:\n",
    "    print(\"Tuples are immutable\")"
   ]
  },
  {
   "cell_type": "markdown",
   "id": "7515edc7-292a-4b74-90e3-576f8198a939",
   "metadata": {},
   "source": [
    "Q5.Describe the key features of sets and provide examples of their use.\n",
    "\n",
    "- Uniqueness of elements:\n",
    "     A set contains only unique elements. if we try to dd the same element multiple times, it remains present only once.\n",
    "- No order:\n",
    "      The elemnts in a set are not ordered or indexed.This means that we cannot refer to the 1st or 2nd element of a set.\n",
    "- Set operations:\n",
    "       sets allow for various operations such as union, intersection, difference and complement which enables manipulation and comparison of sets\n",
    "- Flexibility:\n",
    "      sets are flexible and allow us to add or remove elements,They don't have a specific order, so we cannot access the elements by their position.\n",
    "      Whereas frozen ssts are immutable, they can not be changed after the creation\n",
    "- Mathematical notation:\n",
    "      sets are commonly denoted using curly braces, such as (A={1,3,5}), where A is the set containing the elements 1,3,5"
   ]
  },
  {
   "cell_type": "code",
   "execution_count": 13,
   "id": "bd75c735-1628-4fce-bf38-8562a139c26a",
   "metadata": {},
   "outputs": [
    {
     "name": "stdout",
     "output_type": "stream",
     "text": [
      "{1, 3, 5, 6, 7, 8}\n",
      "Cannot access the element in the set\n",
      "{1, 2, 5, 9, 10}\n",
      "{5}\n",
      "{1, 9}\n",
      "{1, 3, 5, 6, 7, 8, 234}\n",
      "{1, 3, 5, 6, 7, 234}\n"
     ]
    }
   ],
   "source": [
    "#uniqueness\n",
    "my_set={1,3,3,5,6,7,8}\n",
    "print(my_set)\n",
    "#no order\n",
    "try:\n",
    "    print(my_set[3])\n",
    "except:\n",
    "    print(\"Cannot access the element in the set\")\n",
    "#set operation\n",
    "set1={1,5,9}\n",
    "set2={2,5,10}\n",
    "#union\n",
    "print(set1|set2)\n",
    "#intersection\n",
    "print(set1 & set2)\n",
    "#difference\n",
    "print(set1-set2)\n",
    "#Flexibility of the set\n",
    "my_set.add(234)\n",
    "print(my_set)\n",
    "my_set.remove(8)\n",
    "print(my_set)"
   ]
  },
  {
   "cell_type": "markdown",
   "id": "04427ea7-ac4f-47e7-9b9e-949e3bf37b80",
   "metadata": {},
   "source": [
    "Q6.Discuss the use cases of tuples and sets in Python programming.\n",
    "\n",
    "- Use case of tuples:\n",
    "  Tuples have several practical use cases across programming tasks.Scenarios where the tuples are useful:\n",
    "    - Returning multiple values from functions:\n",
    "       Tuples are commonly used to return multiple values from a function in python.Unlike lists, tuples are immutable which ensures that the returned data remains unchanged\n",
    "    - Data integrity:\n",
    "        When passing data around in the program using tuples can protect that data from accidental changes, ensuring data integrity\n",
    "    - Iterating over sequences:\n",
    "        Tuples can be iterated over directly. making them useful for looping through fixed collections of data.\n",
    "    - Efficiency:\n",
    "        Tuples are generally more memory efficient than lists because they are immutable and have a simpler internal structure\n",
    "- Use case of sets:\n",
    "    - Uniqueness of elements:\n",
    "         sets are ideal when we need to store unique elements and quickly check for existence of an item\n",
    "    - Removing duplicates from the sequence:\n",
    "         we can use sets to remove duplicate elements from a list or another iterable while preserving the original order\n",
    "    - Set comprehension:\n",
    "         similar to list comprehension, set comprehensions provide a concise way to create sets based on some condition or transformation\n",
    "    - Removing redundancy in data:\n",
    "         sets can be used to filter out redundant or unnecessary elements from datasets or data streams"
   ]
  },
  {
   "cell_type": "markdown",
   "id": "87543b93-c4f9-4bcd-b774-13b32d912766",
   "metadata": {},
   "source": [
    "Q7.Describe how to add, modify and delete items in a dictionary with examples.\n",
    "\n",
    "- Adding ans modifying of items to the existing dictionary:\n",
    "    to add new item(key-value pair) to the dictionary using simple assignment with square brackets, new key in the square brackets assigning value to that key.We can also update() method that allow us to add multiple key-value pairs to a dictionary or update the value of the existing key with the new value\n",
    "- Deleting the item:\n",
    "    deleting the item from the dictionary using del keyword that allows us to delete a key-value pair from dictionary by specifying the key. The other method is pop() method that removes a key from the dictionary and returns its value, it requires key as an argument. Another method is popitem() method that removes and returns an arbitrary(key, value) pair."
   ]
  },
  {
   "cell_type": "code",
   "execution_count": 1,
   "id": "96c0c5a0-ab48-410b-b581-14562068f61e",
   "metadata": {},
   "outputs": [
    {
     "name": "stdout",
     "output_type": "stream",
     "text": [
      "{'Name': 'Amina', 'Email': 'amina34@gmail.com', 'Course': 'Data science with gen ai', 'Age': 21}\n",
      "{'Name': 'Amina', 'Email': 'amina34@gmail.com', 'Course': 'Data science with gen ai', 'Age': 21, 'Fees': 20000}\n",
      "{'Name': 'Fathima', 'Email': 'amina34@gmail.com', 'Course': 'Data science with gen ai', 'Age': 21, 'Fees': 20000}\n",
      "{'Name': 'Fathima', 'Email': 'amina34@gmail.com', 'Course': 'Data science with gen ai', 'Fees': 20000}\n",
      "20000\n"
     ]
    },
    {
     "data": {
      "text/plain": [
       "('Course', 'Data science with gen ai')"
      ]
     },
     "execution_count": 1,
     "metadata": {},
     "output_type": "execute_result"
    }
   ],
   "source": [
    "my_dict={\"Name\":\"Amina\",\"Email\":\"amina34@gmail.com\",\"Course\":\"Data science with gen ai\"}\n",
    "#adding new key value pair using simple assignment\n",
    "my_dict[\"Age\"]=21\n",
    "print(my_dict)\n",
    "#adding new item using update() method\n",
    "x={\"Fees\":20000}\n",
    "my_dict.update(x)\n",
    "print(my_dict)\n",
    "#updating with the new value for existing key\n",
    "y={\"Name\":\"Fathima\"}\n",
    "my_dict.update(y)\n",
    "print(my_dict)\n",
    "\n",
    "#deleting item in dictionary using del keyword\n",
    "del my_dict[\"Age\"]\n",
    "print(my_dict)\n",
    "#deleting the item using pop() method\n",
    "print(my_dict.pop(\"Fees\"))\n",
    "#deleting the item using popitem() method\n",
    "my_dict.popitem()"
   ]
  },
  {
   "cell_type": "markdown",
   "id": "75bc8e8f-5b88-491d-92f6-cb2a55e10ae0",
   "metadata": {},
   "source": [
    "Q8. Discuss the importance of dictionary keys being immutable and provide example.\n",
    "\n",
    "- immutability in python dictionary keys enhances safety, reliability and performance in various programming scenarios.It ensures data consistency, supports concurent programming practices and promotes cleaner, more predictable code. Understanding when to use immutability can lead to more efficient and maintainable python applications.\n",
    "   - Hashability: Dictionary keys must be hasable which means they must be immutable and have a hash value.This requirement allows python dictionaries to efficiently store and retrive key-value pairs using a hash table implementation.Mutable objects lisk list cannot be used as keys because their values can change making t impossible to maintain a consistent hash value.\n",
    "   - Guaranteed uniqueness:Immutable keys ensure that each key in dictionary is unique.If mutable objects were allowed as keys and their values changed, it would lead to inconsistencies and potential errors when retrieving values from the dictionary\n",
    "   - Consistency in operations: Immutable keys provide consistency in dictionary operations like lookups, inserts, and deletes. Since the hash value of a key remains constant the dictionary can quickly determine where to store or find associated values."
   ]
  },
  {
   "cell_type": "code",
   "execution_count": 3,
   "id": "c1e98432-46b4-47d7-b58a-cfe3faddcc7e",
   "metadata": {},
   "outputs": [
    {
     "name": "stdout",
     "output_type": "stream",
     "text": [
      "cordinates\n",
      "lists are mutable so cannot be used as key in dictionary\n"
     ]
    }
   ],
   "source": [
    "#creating a dictionary with immutable keys\n",
    "student={\"name\":\"Arun\",\"age\":34,(3,5):\"cordinates\"}\n",
    "#accessing values using keys \n",
    "print(student[(3,5)])\n",
    "#attempting to use a mutable key\n",
    "try:\n",
    "    student[[1,2]]=\"list_key\"\n",
    "except:\n",
    "    print(\"lists are mutable so cannot be used as key in dictionary\")"
   ]
  },
  {
   "cell_type": "code",
   "execution_count": null,
   "id": "29d256b5-22b6-4155-b6c7-788c52db0e22",
   "metadata": {},
   "outputs": [],
   "source": []
  }
 ],
 "metadata": {
  "kernelspec": {
   "display_name": "Python 3 (ipykernel)",
   "language": "python",
   "name": "python3"
  },
  "language_info": {
   "codemirror_mode": {
    "name": "ipython",
    "version": 3
   },
   "file_extension": ".py",
   "mimetype": "text/x-python",
   "name": "python",
   "nbconvert_exporter": "python",
   "pygments_lexer": "ipython3",
   "version": "3.10.8"
  }
 },
 "nbformat": 4,
 "nbformat_minor": 5
}
