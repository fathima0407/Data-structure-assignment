{
 "cells": [
  {
   "cell_type": "markdown",
   "id": "5d67f6f7-2721-4d18-bd5c-5557cc5d932f",
   "metadata": {},
   "source": [
    "Q1. Explain the key features of Python that make it a popular choice for programming.\n",
    "\n",
    " - Readability and Simplicity: Python syntax is designed to be clear and reuseable compared to other programming languages, making it an ideal choice for both begginers and experienced programmers to understand and write the code.\n",
    " - Large standard libraries: Python provides a vast standard library with ready to use modules and functions for various tasks saving the developers time and effort in implementing those common functionalities.\n",
    " - Dynamically typed: Meaning we do not need to explicitly declare the type of the variables unlike other programming languages like c, c++.\n",
    " - Interpreted nature: Python is an interpreted language meaning it does not require compilation , it executes the code line by line which helps in identifying the errors.\n",
    " - Itis comptible with various programming paradigm,such as object oriented, functional and procedural programming.\n",
    " - Python have large active community of developers and thrid party packages for various domains."
   ]
  },
  {
   "cell_type": "markdown",
   "id": "50455d58-fb77-4f7c-b26f-f36ebaa3c9ec",
   "metadata": {},
   "source": [
    "Q2. Descsibe the role of predefined keywords in Python and provide examples of how they are used in a \n",
    "program.\n",
    " \n",
    " Keywords are like building block of any programming language. Predefined keywords in python are special words that are having specific meaning and purpose within python language.They play a crucial role in defining the structure and behaviour of programmers as they save the programmers time and effort in implementing those function into the program.\n",
    " - Examples of predefined keywords are: \n",
    "   - To define a class we use \"class\" keyword\n",
    "   - To put multiple condition in our program we use \"elif\" keyword\n",
    "   - To exit the loop we use \"break\" keyword\n",
    "   - To print the output to the console we use \"print\" keyword\n",
    "   - To import any module into our program we use \"import\" keyword"
   ]
  },
  {
   "cell_type": "code",
   "execution_count": 6,
   "id": "50b67b08-66d7-41a8-a4c9-c62895002ef8",
   "metadata": {},
   "outputs": [],
   "source": [
    "#\"class\" keyword\n",
    "class parent:\n",
    "    pass"
   ]
  },
  {
   "cell_type": "code",
   "execution_count": 7,
   "id": "3925a7d9-4c9c-453a-9253-4dadd3271ea1",
   "metadata": {},
   "outputs": [
    {
     "name": "stdout",
     "output_type": "stream",
     "text": [
      "x is greater than equal to 4\n"
     ]
    }
   ],
   "source": [
    "#\"if\", \"elif\", \"else\" keyword\n",
    "x=4\n",
    "if x<3:\n",
    "    print(\"x is less than 3\")\n",
    "elif x>=4:\n",
    "    print(\"x is greater than equal to 4\")\n",
    "else:\n",
    "    print(\"x is greater than 4\")"
   ]
  },
  {
   "cell_type": "code",
   "execution_count": 8,
   "id": "56f01b64-0718-480e-962b-93626cf54348",
   "metadata": {},
   "outputs": [
    {
     "name": "stdout",
     "output_type": "stream",
     "text": [
      "0\n",
      "1\n",
      "2\n",
      "3\n"
     ]
    }
   ],
   "source": [
    "#\"break\" keyword\n",
    "for i in range(10):\n",
    "    if i==4:\n",
    "        break\n",
    "    print(i)"
   ]
  },
  {
   "cell_type": "code",
   "execution_count": 9,
   "id": "689924a8-aac2-441a-884a-9f8dfa2e8d90",
   "metadata": {},
   "outputs": [
    {
     "name": "stdout",
     "output_type": "stream",
     "text": [
      "hello world\n"
     ]
    }
   ],
   "source": [
    "#\"print\" keyword\n",
    "print(\"hello world\")"
   ]
  },
  {
   "cell_type": "code",
   "execution_count": 10,
   "id": "f7fb64f6-477a-42fc-9835-ada8210f601d",
   "metadata": {},
   "outputs": [],
   "source": [
    "#\"import\" keyword\n",
    "import math"
   ]
  },
  {
   "cell_type": "markdown",
   "id": "5703bcbe-d6b5-40ae-9400-51f79a149cd6",
   "metadata": {},
   "source": [
    "Q3. Compare and contrast mutable and immutable objects in Python with examples.\n",
    "\n",
    " - Mutable objects:\n",
    "   - object in python  like list, dictionaries , sets that can be modified after they are created\n",
    "   - for example:we can add , remove or modify the values(elements in it)\n",
    "   - They consume large amount of memory as they allow dynamic changes.\n",
    " - Immutable objects:\n",
    "   - objects in python like integer, tuple, frozen sets that can not be modified once they are created\n",
    "   - they consumes lesser memory compared to mutable objects as they are static in nature"
   ]
  },
  {
   "cell_type": "code",
   "execution_count": 11,
   "id": "114a3219-f041-4142-9a1e-5e4c69352665",
   "metadata": {},
   "outputs": [
    {
     "name": "stdout",
     "output_type": "stream",
     "text": [
      "[2, 4, 6, 8, 10, 45]\n"
     ]
    }
   ],
   "source": [
    "#mutability\n",
    "my_list=[2,4,6,8,10]\n",
    "my_list.append(45)\n",
    "print(my_list)"
   ]
  },
  {
   "cell_type": "code",
   "execution_count": 12,
   "id": "d29f36aa-ee52-4e1a-aada-1f87057692e9",
   "metadata": {},
   "outputs": [
    {
     "ename": "AttributeError",
     "evalue": "'tuple' object has no attribute 'append'",
     "output_type": "error",
     "traceback": [
      "\u001b[0;31m---------------------------------------------------------------------------\u001b[0m",
      "\u001b[0;31mAttributeError\u001b[0m                            Traceback (most recent call last)",
      "Cell \u001b[0;32mIn[12], line 3\u001b[0m\n\u001b[1;32m      1\u001b[0m \u001b[38;5;66;03m#immutability\u001b[39;00m\n\u001b[1;32m      2\u001b[0m tuple1\u001b[38;5;241m=\u001b[39m(\u001b[38;5;241m2\u001b[39m,\u001b[38;5;241m4\u001b[39m,\u001b[38;5;241m6\u001b[39m,\u001b[38;5;241m8\u001b[39m)\n\u001b[0;32m----> 3\u001b[0m \u001b[43mtuple1\u001b[49m\u001b[38;5;241;43m.\u001b[39;49m\u001b[43mappend\u001b[49m(\u001b[38;5;241m34\u001b[39m)\n\u001b[1;32m      4\u001b[0m \u001b[38;5;28mprint\u001b[39m(tuple1)\n\u001b[1;32m      5\u001b[0m \u001b[38;5;66;03m#This will throw an  attribute error saying tuple as no attribute append\u001b[39;00m\n",
      "\u001b[0;31mAttributeError\u001b[0m: 'tuple' object has no attribute 'append'"
     ]
    }
   ],
   "source": [
    "#immutability\n",
    "tuple1=(2,4,6,8)\n",
    "tuple1.append(34)\n",
    "print(tuple1)\n",
    "#This will throw an  attribute error saying tuple as no attribute append"
   ]
  },
  {
   "cell_type": "markdown",
   "id": "58659748-125a-4379-8402-353a789b1395",
   "metadata": {},
   "source": [
    "Q4. Discuss the different types of operators in Python and provide examples of how they are used.\n",
    "\n",
    " - Arithmetic operators: arthmetic operator in python are used to perform mathematical calculations on numeric values\n",
    "    - Addition(+): adds two operands together.\n",
    "    - Subtraction(-): subtracts the second operand from the first operand.If first operand is smaller than the second operand the result will be negative\n",
    "    - Division(/): divides the first operand by the other operand and returns the quotient\n",
    "    - Multiplication(*): multiplies one operand by the other\n",
    "    - Modulus(%): returns the remainder after dividing the first operand by second operand\n",
    "    - Exponentiation(**): raises the first operand to the power of second operand\n",
    "    - Floor division(//): provides the floor value of the quotient obtained by dividing the two operand\n",
    " - Assignment operators: assignment operators are used to assign values to variables.\n",
    "    - Equal to(=): assign the value on the right to the variable on the left.\n",
    "    - Compound assignment opeartors(+=,-=,*=,/=): perform the specified arithmetic operations and assign the result to variable.\n",
    " - Comparison operators: comparison operator in python are used to compare two values and returns a boolean value\n",
    "    - Equal to(==): checks if two operands are equal\n",
    "    - Not equal to(!=): checks if two operands are not equal\n",
    "    - Greater than(>): checks if the left operand is greater than the right operand\n",
    "    - Less than(<): checks if the left operand is less than right operand\n",
    "    - Greater than equal to(>=): checks if the left operand is greater than or equal to the right operand\n",
    "    - less than equal to(<=): checks if the left operand is less than or equal to the right operand\n",
    " - Logical operator:they are used to perform logical operations on boolean values\n",
    "    - Logical AND(and): returns True if both the operands are ture otherwise False\n",
    "    - Logical OR(or): returns True if one of them are true and True if both are true otherwise False\n",
    "    - Logical NOT(not): returns the opposite boolean value of the operand\n",
    " - Bitwise operators: they perform operations on individual bits of binary numbers\n",
    "    - Bitwise AND(&):performs a bitwise AND operations on the binary representation of the operands\n",
    "    - Bitwise OR(|): performs a bitwise OR operation on the binary representation of the operands\n",
    "    - Bitwise XOR(^): performs a bitwise exclusive OR operation on the binary representation of the operands\n",
    "    - Bitwise complement(~): inverts the bits of the operands\n",
    "    - Left shift(<<): shifts the bit of the left operand to the left by the number of positions specified by the right operand\n",
    "    - Right shift(>>): shifts the bit of the left operand to the right by the number of positions specified by the right operand\n",
    " - Membership operators: they are used to test whether a value is the member of the sequence\n",
    "    - IN(in): returns true if the specified element is present in the squence\n",
    "    - NOT IN(not in): returns true if the specified element is not present in the sequence\n",
    " - Identity operators: they are used to compare the identity of two objects in python\n",
    "    - IS(is): returns true if both operands refer to the same object\n",
    "    - IS NOT(is not): returns true if both operands do not refer to the same object"
   ]
  },
  {
   "cell_type": "code",
   "execution_count": 13,
   "id": "92685781-0e40-4672-ae66-370d35f20c36",
   "metadata": {},
   "outputs": [
    {
     "name": "stdout",
     "output_type": "stream",
     "text": [
      "11\n",
      "-1\n",
      "30\n",
      "0.8333333333333334\n",
      "5\n",
      "15625\n",
      "0\n"
     ]
    }
   ],
   "source": [
    "#Arithmetic operators\n",
    "a=5\n",
    "b=6\n",
    "#addition\n",
    "print(a+b)\n",
    "#subtraction\n",
    "print(a-b)\n",
    "#multiplication\n",
    "print(a*b)\n",
    "#division\n",
    "print(a/b)\n",
    "#modulus\n",
    "print(a%b)\n",
    "#exponentiation\n",
    "print(a**b)\n",
    "#floor division\n",
    "print(a//b)"
   ]
  },
  {
   "cell_type": "code",
   "execution_count": 14,
   "id": "77814672-f790-4236-b868-e1f333c480c9",
   "metadata": {},
   "outputs": [
    {
     "name": "stdout",
     "output_type": "stream",
     "text": [
      "7\n",
      "10\n",
      "7\n",
      "21\n",
      "7.0\n"
     ]
    }
   ],
   "source": [
    "#Assignment operators\n",
    "a=7\n",
    "print(a)\n",
    "#short hand assignment operator\n",
    "a+=3\n",
    "print(a)\n",
    "a-=3\n",
    "print(a)\n",
    "a*=3\n",
    "print(a)\n",
    "a/=3\n",
    "print(a)"
   ]
  },
  {
   "cell_type": "code",
   "execution_count": 15,
   "id": "eb4037c1-2084-4354-991a-23b5debd32c8",
   "metadata": {},
   "outputs": [
    {
     "name": "stdout",
     "output_type": "stream",
     "text": [
      "False\n",
      "True\n",
      "True\n",
      "False\n",
      "True\n",
      "False\n"
     ]
    }
   ],
   "source": [
    "#comparison operator\n",
    "x=4\n",
    "y=7\n",
    "#equal to\n",
    "print(x==y)\n",
    "#not equal to\n",
    "print(x!=y)\n",
    "#less than\n",
    "print(x<y)\n",
    "#greater than\n",
    "print(x>y)\n",
    "#less than or equal to\n",
    "print(x<=y)\n",
    "#greater than or equal to\n",
    "print(x>=y)"
   ]
  },
  {
   "cell_type": "code",
   "execution_count": 16,
   "id": "5442399b-5289-4b2e-b257-6496c4c99b26",
   "metadata": {},
   "outputs": [
    {
     "name": "stdout",
     "output_type": "stream",
     "text": [
      "True\n",
      "True\n",
      "False\n",
      "False\n"
     ]
    }
   ],
   "source": [
    "#logical operators\n",
    "c=True\n",
    "d=True\n",
    "#logical and\n",
    "print(c and d)\n",
    "#logical or\n",
    "print(c or d)\n",
    "# logical not\n",
    "print(not (c and d))\n",
    "print(not(c or d))"
   ]
  },
  {
   "cell_type": "code",
   "execution_count": 17,
   "id": "346dc595-da2d-4d8b-b87b-077292496803",
   "metadata": {},
   "outputs": [
    {
     "name": "stdout",
     "output_type": "stream",
     "text": [
      "10\n",
      "15\n",
      "-16\n",
      "-11\n",
      "5\n",
      "120\n",
      "1\n"
     ]
    }
   ],
   "source": [
    "#bitwise operator\n",
    "a=15\n",
    "b=10\n",
    "#bitwise and\n",
    "print(a&b)\n",
    "#bitwise or\n",
    "print(a | b)\n",
    "#bitwise complement(telda)\n",
    "print(~a)\n",
    "print(~b)\n",
    "#bitwise xor\n",
    "print(a^b)\n",
    "#left shift\n",
    "print(a<<3)\n",
    "#right shift\n",
    "print(b>>3)"
   ]
  },
  {
   "cell_type": "code",
   "execution_count": 18,
   "id": "ec66dcdb-4410-481c-ac2a-8d2de2dc973d",
   "metadata": {},
   "outputs": [
    {
     "name": "stdout",
     "output_type": "stream",
     "text": [
      "True\n",
      "False\n"
     ]
    }
   ],
   "source": [
    "#membership operator\n",
    "l=[5,10,15,17]\n",
    "print(15 in l)\n",
    "print(20 in l)"
   ]
  },
  {
   "cell_type": "code",
   "execution_count": 19,
   "id": "88d1c3e0-4062-4998-97b6-9077de889f7c",
   "metadata": {},
   "outputs": [
    {
     "name": "stdout",
     "output_type": "stream",
     "text": [
      "True\n",
      "False\n"
     ]
    }
   ],
   "source": [
    "#identity operator\n",
    "a=4\n",
    "b=4\n",
    "print(a is b)\n",
    "print(a is not b)"
   ]
  },
  {
   "cell_type": "markdown",
   "id": "8fbe4417-fdee-483b-8a16-7c13261049dc",
   "metadata": {},
   "source": [
    "Q5. Explain the concept of type casting in Python with examples \n",
    " - In python type casting is also known as type conversion refers to the process of changing the data type of a variablle or value to a different type.\n",
    " - It is very useful when we need to perform operation or comparison with values of different data type\n",
    "-  Python provides several built in functions for type casting allowing us to convert values between differnt data types.Some of the common type casting functions are:\n",
    "   - int(): converts a value to an integer data type\n",
    "   - float(): converts a value to float(decimal) data type\n",
    "   - str(): converts the value to string data type\n",
    "   - list(): converts a value to list data type\n",
    "   - tuple(): converts a value to tuple data type\n",
    "   -  bool(): converts a value to a boolean data type.\n",
    "  "
   ]
  },
  {
   "cell_type": "code",
   "execution_count": 20,
   "id": "58d65726-78a2-407b-872b-286e1a7c5d6c",
   "metadata": {},
   "outputs": [
    {
     "name": "stdout",
     "output_type": "stream",
     "text": [
      "<class 'int'>\n",
      "10\n",
      "<class 'str'>\n"
     ]
    }
   ],
   "source": [
    "#integer to string\n",
    "num=10\n",
    "print(type(num))\n",
    "num_str=str(num)\n",
    "print(num_str)\n",
    "print(type(num_str))"
   ]
  },
  {
   "cell_type": "code",
   "execution_count": 21,
   "id": "a6fd574e-da4d-4d1a-9d64-0e6da72e805c",
   "metadata": {},
   "outputs": [
    {
     "name": "stdout",
     "output_type": "stream",
     "text": [
      "<class 'str'>\n",
      "250\n",
      "<class 'int'>\n"
     ]
    }
   ],
   "source": [
    "#string to integer\n",
    "num_str=\"250\"\n",
    "print(type(num_str))\n",
    "num_int=int(num_str)\n",
    "print(num_int)\n",
    "print(type(num_int))"
   ]
  },
  {
   "cell_type": "code",
   "execution_count": 22,
   "id": "3dfe7c5e-718c-4e63-8b33-99341e555cd0",
   "metadata": {},
   "outputs": [
    {
     "name": "stdout",
     "output_type": "stream",
     "text": [
      "<class 'float'>\n",
      "7\n",
      "<class 'int'>\n"
     ]
    }
   ],
   "source": [
    "#float to integer\n",
    "num_float=7.89\n",
    "print(type(num_float))\n",
    "num_int=int(num_float)\n",
    "print(num_int)\n",
    "print(type(num_int))"
   ]
  },
  {
   "cell_type": "markdown",
   "id": "be403878-ee8a-4a49-8cfd-9a9c7cb36446",
   "metadata": {},
   "source": [
    "Q6. How do conditional statements work in Python? Illustrate with examples\n",
    " \n",
    " - Conditionals statements allows us to execute different blocks of code based on certain conditions\n",
    " - Conditionals can be nested to handle multiple conditions and control differnt blocks based on the outcome of logical expressions.\n",
    " - IF statement: they are used to perform a specific block of code if the condition is true.It allows us to make decision in our program based on evaluation of the condition.If the condition is true the code block indented below the if statement is executed.\n",
    " - If-else statement: they are used to perform differnt actions based on the evaluation of a condition. It allows us to execute one block of code if the condition is true and another block of code if the condition is false\n",
    " - elif statement: The elif statement in python, short for \"else-if\" allows us to check for multiple conditions in squential manner. It is used when we have more than two possible outcomes or conditions to evaluate."
   ]
  },
  {
   "cell_type": "code",
   "execution_count": 23,
   "id": "b1c66dad-6aec-4aaf-b8db-ac592d0b0ac3",
   "metadata": {},
   "outputs": [
    {
     "name": "stdout",
     "output_type": "stream",
     "text": [
      "you are an adult\n",
      "you can vote\n"
     ]
    }
   ],
   "source": [
    "#if statement\n",
    "age=25\n",
    "if age>=18:\n",
    "    print(\"you are an adult\")\n",
    "    print(\"you can vote\")"
   ]
  },
  {
   "cell_type": "code",
   "execution_count": 24,
   "id": "2642ef65-b1b6-4a0b-9195-a5c31b0e815e",
   "metadata": {},
   "outputs": [
    {
     "name": "stdout",
     "output_type": "stream",
     "text": [
      "you are not an adult\n"
     ]
    }
   ],
   "source": [
    "#if-else statement\n",
    "age=15\n",
    "if age>=18:\n",
    "    print(\"you are an adult\")\n",
    "    print(\"you can vote\")\n",
    "else:\n",
    "    print(\"you are not an adult\")"
   ]
  },
  {
   "cell_type": "code",
   "execution_count": 25,
   "id": "e40208fa-db26-4791-8e99-fe8bff2201c6",
   "metadata": {},
   "outputs": [
    {
     "name": "stdout",
     "output_type": "stream",
     "text": [
      "Good!\n"
     ]
    }
   ],
   "source": [
    "#elif statement\n",
    "score=75\n",
    "if score>=90:\n",
    "    print(\"Excellent!\")\n",
    "elif score>=80:\n",
    "    print(\"Very good!\")\n",
    "elif score>=70:\n",
    "    print(\"Good!\")\n",
    "else:\n",
    "    print(\"Keep practicing\")"
   ]
  },
  {
   "cell_type": "markdown",
   "id": "775e1035-7999-4079-b2c5-5d87dbd88ea7",
   "metadata": {},
   "source": [
    "Q7. Describe the different types of loops in Python and their use cases with examples.\n",
    "\n",
    " - while loop: the while loop in python repeatedly executes a block of code as long as a specific condition remains true.It tests the condition before each iteration and continues to execute the code block until the condition evaluates to false\n",
    " - for loop: the for loop in python is used to iterate over a sequence of elements such as a list,tuple,string or range.It allows you to perform a set of actions for each item in the sequence. The loop variable takes the value of each item in the sequence one by one until the sequence is exhausted.  "
   ]
  },
  {
   "cell_type": "code",
   "execution_count": 26,
   "id": "05f3762c-09e6-4230-afd1-2bb01743efb1",
   "metadata": {},
   "outputs": [
    {
     "name": "stdout",
     "output_type": "stream",
     "text": [
      "5\n",
      "4\n",
      "3\n",
      "2\n",
      "1\n"
     ]
    }
   ],
   "source": [
    "#while loop\n",
    "count=5\n",
    "while count>=1:\n",
    "    print(count)\n",
    "    count-=1"
   ]
  },
  {
   "cell_type": "code",
   "execution_count": 27,
   "id": "897c1153-7be5-4073-bb77-22116299a896",
   "metadata": {},
   "outputs": [
    {
     "name": "stdout",
     "output_type": "stream",
     "text": [
      "0 hello\n",
      "1 hello\n",
      "2 hello\n",
      "3 hello\n",
      "4 hello\n",
      "5 hello\n"
     ]
    }
   ],
   "source": [
    "#for loop\n",
    "for i in range(6):\n",
    "    print(i,\"hello\")"
   ]
  },
  {
   "cell_type": "code",
   "execution_count": null,
   "id": "2f564576-93fd-4bb0-a131-2a04cd6c58bf",
   "metadata": {},
   "outputs": [],
   "source": []
  },
  {
   "cell_type": "code",
   "execution_count": null,
   "id": "0d5099a5-3c00-4da8-9ba2-dc6221ca701f",
   "metadata": {},
   "outputs": [],
   "source": []
  }
 ],
 "metadata": {
  "kernelspec": {
   "display_name": "Python 3 (ipykernel)",
   "language": "python",
   "name": "python3"
  },
  "language_info": {
   "codemirror_mode": {
    "name": "ipython",
    "version": 3
   },
   "file_extension": ".py",
   "mimetype": "text/x-python",
   "name": "python",
   "nbconvert_exporter": "python",
   "pygments_lexer": "ipython3",
   "version": "3.10.8"
  }
 },
 "nbformat": 4,
 "nbformat_minor": 5
}
